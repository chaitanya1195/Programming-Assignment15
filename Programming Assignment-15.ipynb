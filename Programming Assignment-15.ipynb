{
 "cells": [
  {
   "cell_type": "code",
   "execution_count": 1,
   "id": "b58fa3f5",
   "metadata": {},
   "outputs": [
    {
     "name": "stdout",
     "output_type": "stream",
     "text": [
      "Enter a positive integer(n): 100\n",
      "Numbers divisible by 5 and 7 between 0 and 100 are:\n",
      "0, 35, 70\n"
     ]
    }
   ],
   "source": [
    "#1. Please write a program using generator to print the numbers which can be divisible by 5 and 7 between 0 and n in comma separated form while n is input by console.\n",
    "\n",
    "def divisible_by_5_and_7(n):\n",
    "    for num in range(n+1):\n",
    "        if num % 5 == 0 and num % 7 ==0:\n",
    "            yield num\n",
    "            \n",
    "def main():\n",
    "    try:\n",
    "        n = int(input(\"Enter a positive integer(n): \"))\n",
    "        if n < 0:\n",
    "            print(\"Please enter a positive integer.\")\n",
    "            return\n",
    "        \n",
    "        result = divisible_by_5_and_7(n)\n",
    "        print(\"Numbers divisible by 5 and 7 between 0 and\", n , \"are:\")\n",
    "        print(\", \".join(str(num) for num in result))\n",
    "        \n",
    "    except ValueError:\n",
    "        print(\"Invalid input. Please enter a valid positive interger.\")\n",
    "    \n",
    "if __name__ == \"__main__\":\n",
    "    main()"
   ]
  },
  {
   "cell_type": "code",
   "execution_count": 4,
   "id": "896ee34a",
   "metadata": {},
   "outputs": [
    {
     "name": "stdout",
     "output_type": "stream",
     "text": [
      "Enter a positive integer (n): 8\n",
      "Even numbers between 0 and 8 are: 0, 2, 4, 6, 8\n"
     ]
    }
   ],
   "source": [
    "#2. Please write a program using generator to print the even numbers between 0 and n in comma separated form while n is input by console.\n",
    "\n",
    "def even_numbers_generator(n):\n",
    "    for num in range(n + 1):\n",
    "        if num % 2 == 0:\n",
    "            yield num\n",
    "            \n",
    "def main():\n",
    "    try:\n",
    "        n = int(input(\"Enter a positive integer (n): \"))\n",
    "        if n < 0:\n",
    "            print(\"Please enter a positive interger.\")\n",
    "            return\n",
    "        result = even_numbers_generator(n)\n",
    "        even_numbers = \", \".join(str(num) for num in result)\n",
    "        print(\"Even numbers between 0 and\", n, \"are:\", even_numbers)\n",
    "        \n",
    "    except ValueError:\n",
    "        print(\"Invalid input. Please enter a valid positive integer.\")\n",
    "        \n",
    "if __name__ == \"__main__\":\n",
    "    main()"
   ]
  },
  {
   "cell_type": "code",
   "execution_count": 5,
   "id": "b80c202a",
   "metadata": {},
   "outputs": [
    {
     "name": "stdout",
     "output_type": "stream",
     "text": [
      "Enter a non-negative integer (n): 5\n",
      "Fibonacci Sequence up to 5 is:\n",
      "0, 1, 1, 2, 3\n"
     ]
    }
   ],
   "source": [
    "#3. The Fibonacci Sequence is computed based on the following formula:\n",
    "    #f(n)=0 if n=0\n",
    "    #f(n)=1 if n=1\n",
    "    #f(n)=f(n-1)+f(n-2) if n>1\n",
    "    #Please write a program using list comprehension to print the Fibonacci Sequence in comma separated form with a given n input by console.\n",
    "\n",
    "\n",
    "\n",
    "def fibonacci_sequence(n):\n",
    "    if n == 0:\n",
    "        return []\n",
    "    elif n == 1:\n",
    "        return [0]\n",
    "    else:\n",
    "        fib_sequence = [0, 1]\n",
    "        [fib_sequence.append(fib_sequence[-1] + fib_sequence[-2]) for _ in range(n - 2)]\n",
    "        return fib_sequence\n",
    "\n",
    "def main():\n",
    "    try:\n",
    "        n = int(input(\"Enter a non-negative integer (n): \"))\n",
    "        if n < 0:\n",
    "            print(\"Please enter a non-negative integer.\")\n",
    "            return\n",
    "\n",
    "        fib_sequence = fibonacci_sequence(n)\n",
    "        print(\"Fibonacci Sequence up to\", n, \"is:\")\n",
    "        print(\", \".join(str(num) for num in fib_sequence))\n",
    "\n",
    "    except ValueError:\n",
    "        print(\"Invalid input. Please enter a valid non-negative integer.\")\n",
    "\n",
    "if __name__ == \"__main__\":\n",
    "    main()\n"
   ]
  },
  {
   "cell_type": "code",
   "execution_count": 6,
   "id": "20e33545",
   "metadata": {},
   "outputs": [
    {
     "name": "stdout",
     "output_type": "stream",
     "text": [
      "Enter an email address: chaitanya@imake.in\n",
      "Username: chaitanya\n"
     ]
    }
   ],
   "source": [
    "#4. Assuming that we have some email addresses in the \"username@companyname.com\" format, please write program to print the user name of a given email address. Both user names and company names are composed of letters only\n",
    "\n",
    "def extract_username(email):\n",
    "    # Split the email address using '@' as the delimiter\n",
    "    parts = email.split('@')\n",
    "\n",
    "    # The username is the first part before the '@' symbol\n",
    "    username = parts[0]\n",
    "    return username\n",
    "\n",
    "def main():\n",
    "    try:\n",
    "        email_address = input(\"Enter an email address: \")\n",
    "        \n",
    "        # Call the function to extract the username\n",
    "        username = extract_username(email_address)\n",
    "\n",
    "        print(\"Username:\", username)\n",
    "\n",
    "    except IndexError:\n",
    "        print(\"Invalid email address format.\")\n",
    "    except Exception as e:\n",
    "        print(\"An error occurred:\", e)\n",
    "\n",
    "if __name__ == \"__main__\":\n",
    "    main()\n"
   ]
  },
  {
   "cell_type": "code",
   "execution_count": 7,
   "id": "6c405b71",
   "metadata": {},
   "outputs": [
    {
     "name": "stdout",
     "output_type": "stream",
     "text": [
      "Area of the square: 25\n",
      "Area of the shape: 0\n"
     ]
    }
   ],
   "source": [
    "#5.Define a class named Shape and its subclass Square. The Square class has an init function which takes a length as argument. Both classes have a area function which can print the area of the shape where Shape's area is 0 by default.\n",
    "\n",
    "\n",
    "class Shape:\n",
    "    def area(self):\n",
    "        return 0\n",
    "\n",
    "class Square(Shape):\n",
    "    def __init__(self, length):\n",
    "        self.length = length\n",
    "\n",
    "    def area(self):\n",
    "        return self.length ** 2\n",
    "\n",
    "def main():\n",
    "    # Create an instance of Square and calculate its area\n",
    "    square = Square(5)\n",
    "    print(\"Area of the square:\", square.area())\n",
    "\n",
    "    # Create an instance of Shape and calculate its area (returns 0 by default)\n",
    "    shape = Shape()\n",
    "    print(\"Area of the shape:\", shape.area())\n",
    "\n",
    "if __name__ == \"__main__\":\n",
    "    main()\n"
   ]
  },
  {
   "cell_type": "code",
   "execution_count": null,
   "id": "cce4ea5b",
   "metadata": {},
   "outputs": [],
   "source": []
  }
 ],
 "metadata": {
  "kernelspec": {
   "display_name": "Python 3 (ipykernel)",
   "language": "python",
   "name": "python3"
  },
  "language_info": {
   "codemirror_mode": {
    "name": "ipython",
    "version": 3
   },
   "file_extension": ".py",
   "mimetype": "text/x-python",
   "name": "python",
   "nbconvert_exporter": "python",
   "pygments_lexer": "ipython3",
   "version": "3.9.13"
  }
 },
 "nbformat": 4,
 "nbformat_minor": 5
}
